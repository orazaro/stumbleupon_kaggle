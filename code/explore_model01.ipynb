{
 "metadata": {
  "name": ""
 },
 "nbformat": 3,
 "nbformat_minor": 0,
 "worksheets": [
  {
   "cells": [
    {
     "cell_type": "code",
     "collapsed": false,
     "input": [
      "#reload(model01)\n",
      "import model01\n",
      "from model01 import *\n",
      "X_all, y, lentrain = load_Boilerplate()\n",
      "X_all,tfv = transform_Tfidf(X_all, lentrain)\n",
      "X = X_all[:lentrain]\n",
      "rd = lm.LogisticRegression(penalty='l2', dual=True, tol=0.0001, \n",
      "                             C=1, fit_intercept=True, intercept_scaling=1.0, \n",
      "                             class_weight=None, random_state=None)\n"
     ],
     "language": "python",
     "metadata": {},
     "outputs": [
      {
       "output_type": "stream",
       "stream": "stdout",
       "text": [
        "loading data..\n",
        "fitting pipeline"
       ]
      },
      {
       "output_type": "stream",
       "stream": "stdout",
       "text": [
        "\n",
        "transforming data"
       ]
      },
      {
       "output_type": "stream",
       "stream": "stdout",
       "text": [
        "\n",
        "X_all(post):"
       ]
      },
      {
       "output_type": "stream",
       "stream": "stdout",
       "text": [
        " (10566, 84460)\n"
       ]
      }
     ],
     "prompt_number": 2
    },
    {
     "cell_type": "code",
     "collapsed": false,
     "input": [
      "cv_run(rd, X, y)"
     ],
     "language": "python",
     "metadata": {},
     "outputs": [
      {
       "output_type": "stream",
       "stream": "stdout",
       "text": [
        "20 Fold CV Score: 0.877200 +- 0.0249\n"
       ]
      }
     ],
     "prompt_number": 3
    },
    {
     "cell_type": "code",
     "collapsed": false,
     "input": [
      "print X[0:10,1:10]\n",
      "#dir(tfv)\n",
      "#print tfv.vocabulary_"
     ],
     "language": "python",
     "metadata": {},
     "outputs": [
      {
       "output_type": "stream",
       "stream": "stdout",
       "text": [
        "\n"
       ]
      }
     ],
     "prompt_number": 4
    },
    {
     "cell_type": "code",
     "collapsed": false,
     "input": [
      "%matplotlib inline\n",
      "import numpy as np\n",
      "import pylab as pl\n",
      "from sklearn.feature_selection import SelectPercentile, f_classif\n",
      "###############################################################################\n",
      "pl.figure(1)\n",
      "pl.clf()\n",
      "\n",
      "X_indices = np.arange(X.shape[-1])\n",
      "\n",
      "###############################################################################\n",
      "# Univariate feature selection with F-test for feature scoring\n",
      "# We use the default selection function: the 10% most significant features\n",
      "selector = SelectPercentile(f_classif, percentile=10)\n",
      "selector.fit(X, y)\n",
      "scores = -np.log10(selector.pvalues_)\n",
      "scores /= scores.max()\n",
      "pl.bar(X_indices - .45, scores, width=.2,\n",
      "       label=r'Univariate score ($-Log(p_{value})$)', color='g')\n",
      "\n",
      "pl.show()"
     ],
     "language": "python",
     "metadata": {},
     "outputs": [
      {
       "output_type": "stream",
       "stream": "stderr",
       "text": [
        "/Users/oraz/anaconda/python.app/Contents/lib/python2.7/site-packages/sklearn/feature_selection/univariate_selection.py:319: UserWarning: Duplicate scores. Result may depend on feature ordering.There are probably duplicate features, or you used a classification score for a regression task.\n",
        "  warn(\"Duplicate scores. Result may depend on feature ordering.\"\n"
       ]
      },
      {
       "metadata": {},
       "output_type": "display_data",
       "png": "[encoded data removed]",
       "text": [
        "<matplotlib.figure.Figure at 0x10f532d10>"
       ]
      }
     ],
     "prompt_number": 5
    },
    {
     "cell_type": "code",
     "collapsed": false,
     "input": [
      "X1 = X.copy()\n",
      "X = selector.transform(X)"
     ],
     "language": "python",
     "metadata": {},
     "outputs": [],
     "prompt_number": 7
    },
    {
     "cell_type": "code",
     "collapsed": false,
     "input": [
      "X.shape\n",
      "cv_run(rd, X, y)"
     ],
     "language": "python",
     "metadata": {},
     "outputs": [
      {
       "output_type": "stream",
       "stream": "stdout",
       "text": [
        "20 Fold CV Score: 0.881473 +- 0.0295\n"
       ]
      }
     ],
     "prompt_number": 9
    },
    {
     "cell_type": "code",
     "collapsed": false,
     "input": [
      "selector.fit(X, y)\n",
      "X = selector.transform(X)\n",
      "X.shape\n",
      "cv_run(rd, X, y)"
     ],
     "language": "python",
     "metadata": {},
     "outputs": [
      {
       "output_type": "stream",
       "stream": "stdout",
       "text": [
        "20 Fold CV Score: 0.865433 +- 0.0338\n"
       ]
      }
     ],
     "prompt_number": 10
    }
   ],
   "metadata": {}
  }
 ]
}